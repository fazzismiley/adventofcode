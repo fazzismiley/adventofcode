{
 "cells": [
  {
   "cell_type": "markdown",
   "metadata": {},
   "source": [
    "# PART A"
   ]
  },
  {
   "cell_type": "code",
   "execution_count": 2,
   "metadata": {
    "collapsed": true
   },
   "outputs": [],
   "source": [
    "import os"
   ]
  },
  {
   "cell_type": "code",
   "execution_count": 3,
   "metadata": {
    "collapsed": false
   },
   "outputs": [],
   "source": [
    "#read teh file and us split line to break at \\n esc seq.\n",
    "with open('day4.txt', 'r') as f:\n",
    "    lines = f.read().strip().splitlines()"
   ]
  },
  {
   "cell_type": "code",
   "execution_count": 4,
   "metadata": {
    "collapsed": false
   },
   "outputs": [],
   "source": [
    "#locate the string slice pos of the the two brackets and the last hypen slice based on those positions to parse out\n",
    "#hash, sector id, check sum and appending them to a temporary list. Convert sector id to int and return list because\n",
    "#it will be thrown away once the fxn is complete. (append to another list when operating on multiple lines)\n",
    "def data_parser(lines):\n",
    "    pos = lines.rfind('[')\n",
    "    pos1= lines.rfind(']')\n",
    "    pos2 = lines.rfind('-')\n",
    "    chck_sum = lines[pos+1:pos1]\n",
    "    sectorid = lines[pos2+1:pos]\n",
    "    sha = lines[0:pos2]\n",
    "    sha1 = lines[0:pos2]\n",
    "    return  sha.replace('-',''), chck_sum, int(sectorid), sha1"
   ]
  },
  {
   "cell_type": "code",
   "execution_count": 5,
   "metadata": {
    "collapsed": false
   },
   "outputs": [],
   "source": [
    "def has_func(counts):\n",
    "    my_dict = {}\n",
    "    for l in letters:\n",
    "        if l in my_dict:\n",
    "            my_dict[l] += 1\n",
    "        else:\n",
    "            my_dict[l] = 1\n",
    "# group letters by count val\n",
    "    counts = list(zip(my_dict.values(), my_dict.keys()))\n",
    "    count_dict = {}\n",
    "    for c in counts:\n",
    "        if c[0] in count_dict:\n",
    "            count_dict[c[0]] += c[1]\n",
    "        else:\n",
    "            count_dict[c[0]] = c[1]\n",
    "\n",
    "# sort the letters of each count val\n",
    "    for k, v in count_dict.items():\n",
    "        count_dict[k] = sorted(v, reverse = not True)\n",
    "\n",
    "# combine the sorted letters by descending keys\n",
    "    sorted_letters = ''\n",
    "    for k in (sorted(list(count_dict.keys()),reverse = True)):\n",
    "        for letter in count_dict[k]:\n",
    "            sorted_letters += letter\n",
    "\n",
    "    return sorted_letters[:5]"
   ]
  },
  {
   "cell_type": "code",
   "execution_count": 6,
   "metadata": {
    "collapsed": false
   },
   "outputs": [],
   "source": [
    "sector_sum = 0\n",
    "for l in lines:\n",
    "    letters, checksum, sector_id, sha = data_parser(l)\n",
    "    translation = has_func(letters)\n",
    "    if translation == checksum:\n",
    "        sector_sum += sector_id"
   ]
  },
  {
   "cell_type": "code",
   "execution_count": 7,
   "metadata": {
    "collapsed": false
   },
   "outputs": [
    {
     "data": {
      "text/plain": [
       "361724"
      ]
     },
     "execution_count": 7,
     "metadata": {},
     "output_type": "execute_result"
    }
   ],
   "source": [
    "sector_sum"
   ]
  },
  {
   "cell_type": "code",
   "execution_count": 8,
   "metadata": {
    "collapsed": false
   },
   "outputs": [
    {
     "data": {
      "text/plain": [
       "24"
      ]
     },
     "execution_count": 8,
     "metadata": {},
     "output_type": "execute_result"
    }
   ],
   "source": [
    "362 % 26"
   ]
  },
  {
   "cell_type": "markdown",
   "metadata": {},
   "source": [
    "# PART B"
   ]
  },
  {
   "cell_type": "code",
   "execution_count": 15,
   "metadata": {
    "collapsed": false
   },
   "outputs": [],
   "source": [
    "#edited parser func to return sha with '-' if it is not decoy data append unedited sha and sector id to data\n",
    "data = []\n",
    "sector = []\n",
    "for l in lines:\n",
    "    letters, checksum, sector_id, sha1 = data_parser(l)\n",
    "    translation = has_func(letters)\n",
    "    if translation == checksum:\n",
    "        data.append(letters)\n",
    "        sector.append(sector_id)"
   ]
  },
  {
   "cell_type": "code",
   "execution_count": 59,
   "metadata": {
    "collapsed": false,
    "scrolled": true
   },
   "outputs": [
    {
     "data": {
      "text/plain": [
       "15"
      ]
     },
     "execution_count": 59,
     "metadata": {},
     "output_type": "execute_result"
    }
   ],
   "source": [
    "977 % 26"
   ]
  },
  {
   "cell_type": "code",
   "execution_count": 74,
   "metadata": {
    "collapsed": false
   },
   "outputs": [],
   "source": [
    "#take the sectid%26 to determine the shift if mod is even keep hyphen else replace with space\n",
    "def shifter(letter,sectorid):\n",
    "    alphabet = 'abcdefghijklmnopqrstuvwxyz'\n",
    "    shift_amt = sectorid % 26\n",
    "    new_letter = alphabet.find(letter) + shift_amt\n",
    "    if new_letter > 25:\n",
    "        new_letter = new_letter - 26    \n",
    "    return alphabet[new_letter]"
   ]
  },
  {
   "cell_type": "code",
   "execution_count": 75,
   "metadata": {
    "collapsed": false,
    "scrolled": false
   },
   "outputs": [],
   "source": [
    "real_room = []\n",
    "for i,val in enumerate(data):\n",
    "    x = \"\"\n",
    "    for l in val:\n",
    "        y = shifter(l,sector[i])\n",
    "        x += y\n",
    "    real_room.append(x)"
   ]
  },
  {
   "cell_type": "code",
   "execution_count": 76,
   "metadata": {
    "collapsed": false
   },
   "outputs": [
    {
     "name": "stdout",
     "output_type": "stream",
     "text": [
      "482\n"
     ]
    }
   ],
   "source": [
    "for i,name in enumerate(real_room):\n",
    "    if name.find('north') != -1:\n",
    "        print(sector[i])\n",
    "    "
   ]
  },
  {
   "cell_type": "code",
   "execution_count": null,
   "metadata": {
    "collapsed": true
   },
   "outputs": [],
   "source": []
  }
 ],
 "metadata": {
  "anaconda-cloud": {},
  "kernelspec": {
   "display_name": "Python [default]",
   "language": "python",
   "name": "python3"
  },
  "language_info": {
   "codemirror_mode": {
    "name": "ipython",
    "version": 3
   },
   "file_extension": ".py",
   "mimetype": "text/x-python",
   "name": "python",
   "nbconvert_exporter": "python",
   "pygments_lexer": "ipython3",
   "version": "3.5.2"
  }
 },
 "nbformat": 4,
 "nbformat_minor": 1
}
