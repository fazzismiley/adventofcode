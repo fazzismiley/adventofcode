{
 "cells": [
  {
   "cell_type": "code",
   "execution_count": 1,
   "metadata": {
    "collapsed": false
   },
   "outputs": [
    {
     "data": {
      "text/plain": [
       "'/Users/fazzi/project/AoC/adventofcode'"
      ]
     },
     "execution_count": 1,
     "metadata": {},
     "output_type": "execute_result"
    }
   ],
   "source": [
    "import os\n",
    "os.getcwd()"
   ]
  },
  {
   "cell_type": "code",
   "execution_count": 2,
   "metadata": {
    "collapsed": true
   },
   "outputs": [],
   "source": [
    "with open('day2.txt', 'r') as f:\n",
    "    data = f.read()"
   ]
  },
  {
   "cell_type": "code",
   "execution_count": 4,
   "metadata": {
    "collapsed": false
   },
   "outputs": [],
   "source": [
    "data = data.split('\\n')"
   ]
  },
  {
   "cell_type": "code",
   "execution_count": 6,
   "metadata": {
    "collapsed": false
   },
   "outputs": [
    {
     "data": {
      "text/plain": [
       "list"
      ]
     },
     "execution_count": 6,
     "metadata": {},
     "output_type": "execute_result"
    }
   ],
   "source": [
    "type(data)"
   ]
  },
  {
   "cell_type": "code",
   "execution_count": 7,
   "metadata": {
    "collapsed": true
   },
   "outputs": [],
   "source": [
    "movements={1: {'R': 2, 'U': 1, 'D': 4, 'L': 1}, \n",
    "           2: {'R': 3, 'U': 2, 'D': 5, 'L': 1},\n",
    "           3: {'R': 3, 'U': 3, 'D': 6, 'L': 2},\n",
    "           4: {'R': 5, 'U': 1, 'D': 7, 'L': 4},\n",
    "           5: {'R': 6, 'U': 2, 'D': 8, 'L': 4},\n",
    "           6: {'R': 6, 'U': 3, 'D': 9, 'L': 5},\n",
    "           7: {'R': 8, 'U': 4, 'D': 7, 'L': 7},\n",
    "           8: {'R': 9, 'U': 5, 'D': 8, 'L': 7},\n",
    "           9: {'R': 9, 'U': 6, 'D': 9, 'L': 8} }"
   ]
  },
  {
   "cell_type": "code",
   "execution_count": 10,
   "metadata": {
    "collapsed": true
   },
   "outputs": [],
   "source": [
    "code = []\n",
    "keypad = 5\n",
    "for d in data:\n",
    "    for i in range(len(d)):\n",
    "        keypad = movements[keypad][d[i]]\n",
    "        if i == (len(d)-1):\n",
    "            code.append(keypad)"
   ]
  },
  {
   "cell_type": "code",
   "execution_count": 11,
   "metadata": {
    "collapsed": false
   },
   "outputs": [
    {
     "data": {
      "text/plain": [
       "[4, 7, 9, 7, 8]"
      ]
     },
     "execution_count": 11,
     "metadata": {},
     "output_type": "execute_result"
    }
   ],
   "source": [
    "code"
   ]
  },
  {
   "cell_type": "code",
   "execution_count": null,
   "metadata": {
    "collapsed": true
   },
   "outputs": [],
   "source": []
  }
 ],
 "metadata": {},
 "nbformat": 4,
 "nbformat_minor": 1
}
