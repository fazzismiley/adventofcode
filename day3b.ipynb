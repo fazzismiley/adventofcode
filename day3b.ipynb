{
 "cells": [
  {
   "cell_type": "code",
   "execution_count": 84,
   "metadata": {
    "collapsed": false
   },
   "outputs": [],
   "source": [
    "import os"
   ]
  },
  {
   "cell_type": "code",
   "execution_count": 85,
   "metadata": {
    "collapsed": false
   },
   "outputs": [],
   "source": [
    "#open input file read into a list to ensure lines are not split up into seperate lists\n",
    "with open('day3.txt', 'r') as f:\n",
    "    data = [f.read()]"
   ]
  },
  {
   "cell_type": "code",
   "execution_count": 87,
   "metadata": {
    "collapsed": false,
    "scrolled": false
   },
   "outputs": [],
   "source": [
    "#create an empty list and iterate through data list and split at all white space and newlines escape sequences append strings\n",
    "data1 =[]\n",
    "for l in data:\n",
    "    data1.append(l.split())   "
   ]
  },
  {
   "cell_type": "code",
   "execution_count": 129,
   "metadata": {
    "collapsed": false
   },
   "outputs": [
    {
     "data": {
      "text/plain": [
       "5976"
      ]
     },
     "execution_count": 129,
     "metadata": {},
     "output_type": "execute_result"
    }
   ],
   "source": [
    "#create empty list iterate through data1 list append int value to empty list \n",
    "clean_data = []\n",
    "for l in data1:\n",
    "    for x in l:\n",
    "        clean_data.append(int(x))        "
   ]
  },
  {
   "cell_type": "code",
   "execution_count": 132,
   "metadata": {
    "collapsed": false
   },
   "outputs": [
    {
     "name": "stdout",
     "output_type": "stream",
     "text": [
      "0\n"
     ]
    }
   ],
   "source": [
    "list1 = []\n",
    "list2 = []\n",
    "list3 = []\n",
    "triangles = 0\n",
    "for i in clean_data:\n",
    "    if len(list1) == len(list2) and len(list1) == len(list3):\n",
    "        list1.append(clean_data.pop(i))\n",
    "    elif len(list1) > len(list2) and len(list2) == len(list3):\n",
    "        list2.append(clean_data.pop(i))\n",
    "    elif len(list3) < len(list2) and len(list3) < len(list1):\n",
    "        list3.append(clean_data.pop(i))\n",
    "    elif len(list1) == 3 and len(list2) == 3 and len(list3) == 3:\n",
    "        list1.sort()\n",
    "        list2.sort()\n",
    "        list3.sort()\n",
    "        if list1[0] + list1[1] > list1[2]:\n",
    "            triangles += 1\n",
    "        del list1[:]\n",
    "        if list2[0] + list2[1] > list2[2]:\n",
    "            triangles += 1\n",
    "        del list2[:]\n",
    "        if list3[0] + list3[1] > list3[2]:\n",
    "            triangles += 1\n",
    "        del list3[:]\n",
    "print (triangles)        "
   ]
  }
 ],
 "metadata": {
  "anaconda-cloud": {},
  "kernelspec": {
   "display_name": "Python [default]",
   "language": "python",
   "name": "python3"
  },
  "language_info": {
   "codemirror_mode": {
    "name": "ipython",
    "version": 3
   },
   "file_extension": ".py",
   "mimetype": "text/x-python",
   "name": "python",
   "nbconvert_exporter": "python",
   "pygments_lexer": "ipython3",
   "version": "3.5.2"
  }
 },
 "nbformat": 4,
 "nbformat_minor": 1
}
