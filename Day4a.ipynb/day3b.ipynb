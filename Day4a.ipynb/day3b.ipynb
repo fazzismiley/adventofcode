{
 "cells": [
  {
   "cell_type": "code",
   "execution_count": 1,
   "metadata": {
    "collapsed": false
   },
   "outputs": [],
   "source": [
    "import os"
   ]
  },
  {
   "cell_type": "code",
   "execution_count": 2,
   "metadata": {
    "collapsed": false
   },
   "outputs": [],
   "source": [
    "#open input file read into a list to ensure lines are not split up into seperate lists\n",
    "with open('day3.txt', 'r') as f:\n",
    "    data = [f.read()]"
   ]
  },
  {
   "cell_type": "code",
   "execution_count": 3,
   "metadata": {
    "collapsed": false,
    "scrolled": false
   },
   "outputs": [],
   "source": [
    "#create an empty list and iterate through data list and split at all white space and newlines escape sequences append strings\n",
    "data1 =[]\n",
    "for l in data:\n",
    "    data1.append(l.split())  "
   ]
  },
  {
   "cell_type": "code",
   "execution_count": 112,
   "metadata": {
    "collapsed": false
   },
   "outputs": [
    {
     "data": {
      "text/plain": [
       "0"
      ]
     },
     "execution_count": 112,
     "metadata": {},
     "output_type": "execute_result"
    }
   ],
   "source": [
    "#create empty list iterate through data1 list append int value to empty list \n",
    "clean_data = []\n",
    "for l in data1:\n",
    "    for x in l:\n",
    "        clean_data.append(int(x))\n",
    "2286 % 3"
   ]
  },
  {
   "cell_type": "code",
   "execution_count": 113,
   "metadata": {
    "collapsed": false
   },
   "outputs": [
    {
     "name": "stdout",
     "output_type": "stream",
     "text": [
      "5976\n"
     ]
    }
   ],
   "source": [
    "#using enumerate to unpack the list of ints and append each column set of ints to a seperate list. Employing modulus\n",
    "#to differenate between the three columns.\n",
    "l1 = []\n",
    "l2 = []\n",
    "l3 = []\n",
    "for i, val in enumerate(clean_data):\n",
    "    if i == 0:\n",
    "        l1.append(val)\n",
    "    if i >= 1:\n",
    "        if (i % 3 == 0):\n",
    "            l1.append(clean_data[i])\n",
    "        elif (i % 3 == 1):\n",
    "            l2.append(clean_data[i])\n",
    "        else:\n",
    "            l3.append(clean_data[i])\n",
    "print (len(l1) + len(l2) + len(l3))"
   ]
  },
  {
   "cell_type": "code",
   "execution_count": 90,
   "metadata": {
    "collapsed": false
   },
   "outputs": [],
   "source": [
    "triangles = 0\n",
    "# define func that iterates through list of list and calcs triangle and 4 loop does not iterate multiple times over\n",
    "#same list\n",
    "\n",
    "def triangle(lists):\n",
    "    for i in lists:\n",
    "        for x in i:\n",
    "            if x == 0:\n",
    "                if (lists[i][x]) + (lists[i][x+1]) > (lists[i][x+2]):\n",
    "                    triangles += 1\n",
    "                "
   ]
  },
  {
   "cell_type": "code",
   "execution_count": 91,
   "metadata": {
    "collapsed": false
   },
   "outputs": [],
   "source": [
    "triangle(sorted_l1)\n",
    "triangle(sorted_l2)\n",
    "triangle(sorted_l3)"
   ]
  },
  {
   "cell_type": "code",
   "execution_count": 92,
   "metadata": {
    "collapsed": false
   },
   "outputs": [
    {
     "data": {
      "text/plain": [
       "0"
      ]
     },
     "execution_count": 92,
     "metadata": {},
     "output_type": "execute_result"
    }
   ],
   "source": [
    "triangles"
   ]
  },
  {
   "cell_type": "code",
   "execution_count": null,
   "metadata": {
    "collapsed": true
   },
   "outputs": [],
   "source": []
  }
 ],
 "metadata": {
  "anaconda-cloud": {},
  "kernelspec": {
   "display_name": "Python [default]",
   "language": "python",
   "name": "python3"
  },
  "language_info": {
   "codemirror_mode": {
    "name": "ipython",
    "version": 3
   },
   "file_extension": ".py",
   "mimetype": "text/x-python",
   "name": "python",
   "nbconvert_exporter": "python",
   "pygments_lexer": "ipython3",
   "version": "3.5.2"
  }
 },
 "nbformat": 4,
 "nbformat_minor": 1
}
