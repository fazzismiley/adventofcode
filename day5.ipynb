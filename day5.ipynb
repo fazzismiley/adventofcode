{
 "cells": [
  {
   "cell_type": "code",
   "execution_count": 1,
   "metadata": {
    "collapsed": true
   },
   "outputs": [],
   "source": [
    "import hashlib"
   ]
  },
  {
   "cell_type": "code",
   "execution_count": 5,
   "metadata": {
    "collapsed": false
   },
   "outputs": [
    {
     "ename": "TypeError",
     "evalue": "string argument without an encoding",
     "output_type": "error",
     "traceback": [
      "\u001b[0;31m---------------------------------------------------------------------------\u001b[0m",
      "\u001b[0;31mTypeError\u001b[0m                                 Traceback (most recent call last)",
      "\u001b[0;32m<ipython-input-5-d673efd0388c>\u001b[0m in \u001b[0;36m<module>\u001b[0;34m()\u001b[0m\n\u001b[0;32m----> 1\u001b[0;31m \u001b[0mdoor_id\u001b[0m \u001b[0;34m=\u001b[0m \u001b[0mbytes\u001b[0m\u001b[0;34m(\u001b[0m\u001b[0;34m'reyedfim'\u001b[0m\u001b[0;34m)\u001b[0m\u001b[0;34m\u001b[0m\u001b[0m\n\u001b[0m",
      "\u001b[0;31mTypeError\u001b[0m: string argument without an encoding"
     ]
    }
   ],
   "source": [
    "door_id = b'reyedfim'"
   ]
  },
  {
   "cell_type": "code",
   "execution_count": 20,
   "metadata": {
    "collapsed": false
   },
   "outputs": [
    {
     "data": {
      "text/plain": [
       "'d43dc8de4f5e2fdf81823914de625268'"
      ]
     },
     "execution_count": 20,
     "metadata": {},
     "output_type": "execute_result"
    }
   ],
   "source": [
    "hashlib.md5(b'reyedfim3').hexdigest()"
   ]
  },
  {
   "cell_type": "code",
   "execution_count": 6,
   "metadata": {
    "collapsed": false
   },
   "outputs": [
    {
     "name": "stdout",
     "output_type": "stream",
     "text": [
      "797564 00000fc2d5e1c74f4f562dc6c5a70fb4\n",
      "938629 000009eda651e255e4a5c90e441dcab0\n",
      "1617991 00000774278f87486dd763de7c36d7ac\n",
      "2104453 00000c569a8c3f3ba99c95be012958d1\n",
      "2564359 000003dbf0ad65c48ec74313dde4ea8d\n",
      "2834991 000005e7d422c718d47e47dfff429cbb\n",
      "3605750 000004d93de3e18869925a23989f0753\n",
      "7183955 00000d3ea22d988f35663c26220b0982\n"
     ]
    }
   ],
   "source": [
    "code = []\n",
    "i = 0\n",
    "while len(code) < 8:\n",
    "    x = hashlib.md5(door_id + bytes(str(i),'ascii')).hexdigest()\n",
    "    if x[:5] == '00000':\n",
    "        print (i, x)\n",
    "        code.append(x[5])\n",
    "    i += 1    "
   ]
  },
  {
   "cell_type": "code",
   "execution_count": null,
   "metadata": {
    "collapsed": true
   },
   "outputs": [],
   "source": [
    "hashlib.md5(door_id + bytes(str(i), 'ascii')).hexdigest()"
   ]
  },
  {
   "cell_type": "code",
   "execution_count": 25,
   "metadata": {
    "collapsed": false
   },
   "outputs": [
    {
     "data": {
      "text/plain": [
       "['f', '9', '7', 'c', '3', '5', '4', 'd']"
      ]
     },
     "execution_count": 25,
     "metadata": {},
     "output_type": "execute_result"
    }
   ],
   "source": [
    "code"
   ]
  },
  {
   "cell_type": "code",
   "execution_count": 8,
   "metadata": {
    "collapsed": true
   },
   "outputs": [],
   "source": [
    "password = ''.join(code)"
   ]
  },
  {
   "cell_type": "code",
   "execution_count": 26,
   "metadata": {
    "collapsed": false
   },
   "outputs": [],
   "source": [
    "my_dict = {1:'a', 2:'b'}"
   ]
  },
  {
   "cell_type": "code",
   "execution_count": 35,
   "metadata": {
    "collapsed": false
   },
   "outputs": [
    {
     "data": {
      "text/plain": [
       "True"
      ]
     },
     "execution_count": 35,
     "metadata": {},
     "output_type": "execute_result"
    }
   ],
   "source": [
    "f ='awd32348fh2'\n",
    "f[3].isnumeric()"
   ]
  },
  {
   "cell_type": "markdown",
   "metadata": {},
   "source": [
    "# PART B"
   ]
  },
  {
   "cell_type": "code",
   "execution_count": 44,
   "metadata": {
    "collapsed": false
   },
   "outputs": [
    {
     "name": "stdout",
     "output_type": "stream",
     "text": [
      "1617991 00000774278f87486dd763de7c36d7ac\n",
      "2564359 000003dbf0ad65c48ec74313dde4ea8d\n",
      "2834991 000005e7d422c718d47e47dfff429cbb\n",
      "3605750 000004d93de3e18869925a23989f0753\n",
      "12187005 000000832f3a209acfbdfe86964ced01\n",
      "13432325 0000023c990be097d3ec134b259cc95d\n",
      "21679503 00000160ed216eb038fb450fb38bb34f\n",
      "25067104 000006274ce1d3978e2396f6456c4adc\n"
     ]
    }
   ],
   "source": [
    "real_code = {}\n",
    "i = 0\n",
    "while len(real_code) < 8:\n",
    "    x  = hashlib.md5(door_id + bytes(str(i), 'ascii')).hexdigest()\n",
    "    if x[:5] == '00000' and x[5].isnumeric() and x[5] not in real_code:\n",
    "        if int(x[5]) < 8:\n",
    "            print (i, x)\n",
    "            real_code[x[5]] = x[6]\n",
    "    i += 1        "
   ]
  },
  {
   "cell_type": "code",
   "execution_count": 45,
   "metadata": {
    "collapsed": false
   },
   "outputs": [
    {
     "data": {
      "text/plain": [
       "{'0': '8',\n",
       " '1': '6',\n",
       " '2': '3',\n",
       " '3': 'd',\n",
       " '4': 'd',\n",
       " '5': 'e',\n",
       " '6': '2',\n",
       " '7': '7'}"
      ]
     },
     "execution_count": 45,
     "metadata": {},
     "output_type": "execute_result"
    }
   ],
   "source": [
    "real_code"
   ]
  },
  {
   "cell_type": "code",
   "execution_count": 39,
   "metadata": {
    "collapsed": false
   },
   "outputs": [],
   "source": [
    "password1 = ''.join(real_code.values())"
   ]
  },
  {
   "cell_type": "code",
   "execution_count": 40,
   "metadata": {
    "collapsed": false
   },
   "outputs": [
    {
     "data": {
      "text/plain": [
       "'72e6653d'"
      ]
     },
     "execution_count": 40,
     "metadata": {},
     "output_type": "execute_result"
    }
   ],
   "source": [
    "863dde27"
   ]
  },
  {
   "cell_type": "code",
   "execution_count": null,
   "metadata": {
    "collapsed": true
   },
   "outputs": [],
   "source": []
  }
 ],
 "metadata": {
  "kernelspec": {
   "display_name": "Python [default]",
   "language": "python",
   "name": "python3"
  },
  "language_info": {
   "codemirror_mode": {
    "name": "ipython",
    "version": 3
   },
   "file_extension": ".py",
   "mimetype": "text/x-python",
   "name": "python",
   "nbconvert_exporter": "python",
   "pygments_lexer": "ipython3",
   "version": "3.5.2"
  }
 },
 "nbformat": 4,
 "nbformat_minor": 1
}
