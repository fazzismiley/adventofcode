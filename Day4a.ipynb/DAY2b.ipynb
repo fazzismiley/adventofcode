{
 "cells": [
  {
   "cell_type": "code",
   "execution_count": 1,
   "metadata": {
    "collapsed": false
   },
   "outputs": [
    {
     "data": {
      "text/plain": [
       "'/Users/fazzi/project/AoC/adventofcode'"
      ]
     },
     "execution_count": 1,
     "metadata": {},
     "output_type": "execute_result"
    }
   ],
   "source": [
    "import os\n",
    "os.getcwd()"
   ]
  },
  {
   "cell_type": "code",
   "execution_count": 5,
   "metadata": {
    "collapsed": true
   },
   "outputs": [],
   "source": [
    "with open('day2.txt', 'r') as f:\n",
    "    data = f.read()"
   ]
  },
  {
   "cell_type": "code",
   "execution_count": 6,
   "metadata": {
    "collapsed": false
   },
   "outputs": [],
   "source": [
    "data = data.split('\\n')"
   ]
  },
  {
   "cell_type": "code",
   "execution_count": 6,
   "metadata": {
    "collapsed": false
   },
   "outputs": [
    {
     "data": {
      "text/plain": [
       "list"
      ]
     },
     "execution_count": 6,
     "metadata": {},
     "output_type": "execute_result"
    }
   ],
   "source": [
    "type(data)"
   ]
  },
  {
   "cell_type": "code",
   "execution_count": 10,
   "metadata": {
    "collapsed": false
   },
   "outputs": [],
   "source": [
    "movements={1: {'R': 1, 'U': 1, 'D': 3, 'L': 1}, \n",
    "           2: {'R': 3, 'U': 2, 'D': 6, 'L': 2},\n",
    "           3: {'R': 4, 'U': 1, 'D': 7, 'L': 2},\n",
    "           4: {'R': 4, 'U': 4, 'D': 8, 'L': 3},\n",
    "           5: {'R': 6, 'U': 5, 'D': 5, 'L': 5},\n",
    "           6: {'R': 7, 'U': 2, 'D': 'A', 'L': 5},\n",
    "           7: {'R': 8, 'U': 3, 'D': 'B', 'L': 6},\n",
    "           8: {'R': 9, 'U': 4, 'D': 'C', 'L': 7},\n",
    "           9: {'R': 9, 'U': 9, 'D': 9, 'L': 8},\n",
    "           'A': {'R': 'B' , 'U': 6, 'L':'A', 'D': 'A'},\n",
    "             'B': {'R': 'C', 'U': 7, 'D': 'Z', 'L': 'A'},\n",
    "             'C': { 'R': 'C', 'U':8, 'D': 'C', 'L': 'B'},\n",
    "              'Z': { 'R': 'Z', 'U': 'B', 'D': 'Z', 'L': 'Z'}}"
   ]
  },
  {
   "cell_type": "code",
   "execution_count": 11,
   "metadata": {
    "collapsed": false
   },
   "outputs": [],
   "source": [
    "code = []\n",
    "keypad = 5\n",
    "for d in data:\n",
    "    for i in range(len(d)):\n",
    "        keypad = movements[keypad][d[i]]\n",
    "        if i == (len(d)-1):\n",
    "            code.append(keypad)"
   ]
  },
  {
   "cell_type": "code",
   "execution_count": 12,
   "metadata": {
    "collapsed": false
   },
   "outputs": [
    {
     "data": {
      "text/plain": [
       "[6, 5, 9, 'A', 'Z']"
      ]
     },
     "execution_count": 12,
     "metadata": {},
     "output_type": "execute_result"
    }
   ],
   "source": [
    "code"
   ]
  },
  {
   "cell_type": "code",
   "execution_count": null,
   "metadata": {
    "collapsed": true
   },
   "outputs": [],
   "source": [
    "''' 1\n",
    "   234\n",
    "  56789\n",
    "   ABC\n",
    "    D'''"
   ]
  }
 ],
 "metadata": {
  "anaconda-cloud": {},
  "kernelspec": {
   "display_name": "Python [default]",
   "language": "python",
   "name": "python3"
  },
  "language_info": {
   "codemirror_mode": {
    "name": "ipython",
    "version": 3
   },
   "file_extension": ".py",
   "mimetype": "text/x-python",
   "name": "python",
   "nbconvert_exporter": "python",
   "pygments_lexer": "ipython3",
   "version": "3.5.2"
  }
 },
 "nbformat": 4,
 "nbformat_minor": 1
}
