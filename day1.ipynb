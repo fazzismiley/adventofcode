{
 "cells": [
  {
   "cell_type": "code",
   "execution_count": 1,
   "metadata": {
    "collapsed": false
   },
   "outputs": [
    {
     "data": {
      "text/plain": [
       "'/home/zen/fadi/adventofcode'"
      ]
     },
     "execution_count": 1,
     "metadata": {},
     "output_type": "execute_result"
    }
   ],
   "source": [
    "import os\n",
    "os.getcwd()"
   ]
  },
  {
   "cell_type": "code",
   "execution_count": 5,
   "metadata": {
    "collapsed": false
   },
   "outputs": [
    {
     "name": "stdout",
     "output_type": "stream",
     "text": [
      "<class '_io.TextIOWrapper'>\n"
     ]
    }
   ],
   "source": [
    "with open('day1.txt', 'r') as f:\n",
    "    data = f.read()\n",
    "    print(type(f))"
   ]
  },
  {
   "cell_type": "code",
   "execution_count": 12,
   "metadata": {
    "collapsed": false
   },
   "outputs": [
    {
     "data": {
      "text/plain": [
       "'L2, L5, L5, R5, L2, L4, R1, R1, L4, R2, R1, L1, L4, R1, L4, L4, R5, R3, R1, L1, R1, L5, L1, R5, L4, R2, L5, L3, L3, R3, L3, R4, R4, L2, L5, R1, R2, L2, L1, R3, R4, L193, R3, L5, R45, L1, R4, R79, L5, L5, R5, R1, L4, R3, R3, L4, R185, L5, L3, L1, R5, L2, R1, R3, R2, L3, L4, L2, R2, L3, L2, L2, L3, L5, R3, R4, L5, R1, R2, L2, R4, R3, L4, L3, L1, R3, R2, R1, R1, L3, R4, L5, R2, R1, R3, L3, L2, L2, R2, R1, R2, R3, L3, L3, R4, L4, R4, R4, R4, L3, L1, L2, R5, R2, R2, R2, L4, L3, L4, R4, L5, L4, R2, L4, L4, R4, R1, R5, L2, L4, L5, L3, L2, L4, L4, R3, L3, L4, R1, L2, R3, L2, R1, R2, R5, L4, L2, L1, L3, R2, R3, L2, L1, L5, L2, L1, R4'"
      ]
     },
     "execution_count": 12,
     "metadata": {},
     "output_type": "execute_result"
    }
   ],
   "source": [
    "data"
   ]
  },
  {
   "cell_type": "code",
   "execution_count": 4,
   "metadata": {
    "collapsed": false
   },
   "outputs": [
    {
     "data": {
      "text/plain": [
       "str"
      ]
     },
     "execution_count": 4,
     "metadata": {},
     "output_type": "execute_result"
    }
   ],
   "source": [
    "type(data)"
   ]
  },
  {
   "cell_type": "code",
   "execution_count": 11,
   "metadata": {
    "collapsed": false
   },
   "outputs": [],
   "source": [
    "data = data.strip('\\n')"
   ]
  },
  {
   "cell_type": "code",
   "execution_count": 13,
   "metadata": {
    "collapsed": false
   },
   "outputs": [
    {
     "data": {
      "text/plain": [
       "'asdf'"
      ]
     },
     "execution_count": 13,
     "metadata": {},
     "output_type": "execute_result"
    }
   ],
   "source": [
    "'  asdf  '.strip()"
   ]
  },
  {
   "cell_type": "code",
   "execution_count": 14,
   "metadata": {
    "collapsed": true
   },
   "outputs": [],
   "source": [
    "directions = data.split(', ')"
   ]
  },
  {
   "cell_type": "code",
   "execution_count": 15,
   "metadata": {
    "collapsed": false
   },
   "outputs": [
    {
     "name": "stdout",
     "output_type": "stream",
     "text": [
      "['L2', 'L5', 'L5', 'R5', 'L2', 'L4', 'R1', 'R1', 'L4', 'R2', 'R1', 'L1', 'L4', 'R1', 'L4', 'L4', 'R5', 'R3', 'R1', 'L1', 'R1', 'L5', 'L1', 'R5', 'L4', 'R2', 'L5', 'L3', 'L3', 'R3', 'L3', 'R4', 'R4', 'L2', 'L5', 'R1', 'R2', 'L2', 'L1', 'R3', 'R4', 'L193', 'R3', 'L5', 'R45', 'L1', 'R4', 'R79', 'L5', 'L5', 'R5', 'R1', 'L4', 'R3', 'R3', 'L4', 'R185', 'L5', 'L3', 'L1', 'R5', 'L2', 'R1', 'R3', 'R2', 'L3', 'L4', 'L2', 'R2', 'L3', 'L2', 'L2', 'L3', 'L5', 'R3', 'R4', 'L5', 'R1', 'R2', 'L2', 'R4', 'R3', 'L4', 'L3', 'L1', 'R3', 'R2', 'R1', 'R1', 'L3', 'R4', 'L5', 'R2', 'R1', 'R3', 'L3', 'L2', 'L2', 'R2', 'R1', 'R2', 'R3', 'L3', 'L3', 'R4', 'L4', 'R4', 'R4', 'R4', 'L3', 'L1', 'L2', 'R5', 'R2', 'R2', 'R2', 'L4', 'L3', 'L4', 'R4', 'L5', 'L4', 'R2', 'L4', 'L4', 'R4', 'R1', 'R5', 'L2', 'L4', 'L5', 'L3', 'L2', 'L4', 'L4', 'R3', 'L3', 'L4', 'R1', 'L2', 'R3', 'L2', 'R1', 'R2', 'R5', 'L4', 'L2', 'L1', 'L3', 'R2', 'R3', 'L2', 'L1', 'L5', 'L2', 'L1', 'R4']\n"
     ]
    }
   ],
   "source": [
    "print(directions)"
   ]
  },
  {
   "cell_type": "code",
   "execution_count": 17,
   "metadata": {
    "collapsed": false
   },
   "outputs": [
    {
     "data": {
      "text/plain": [
       "'L2'"
      ]
     },
     "execution_count": 17,
     "metadata": {},
     "output_type": "execute_result"
    }
   ],
   "source": [
    "directions[0]"
   ]
  },
  {
   "cell_type": "code",
   "execution_count": 24,
   "metadata": {
    "collapsed": true
   },
   "outputs": [],
   "source": [
    "directions2 = []"
   ]
  },
  {
   "cell_type": "code",
   "execution_count": 25,
   "metadata": {
    "collapsed": true
   },
   "outputs": [],
   "source": [
    "for d in directions:\n",
    "    turn = d[0]\n",
    "    move = int(d[1:])\n",
    "    if turn == 'L':\n",
    "        turn = -1\n",
    "    else:\n",
    "        turn = 1\n",
    "    directions2.append([turn,move])    "
   ]
  },
  {
   "cell_type": "code",
   "execution_count": 26,
   "metadata": {
    "collapsed": false
   },
   "outputs": [
    {
     "data": {
      "text/plain": [
       "[[-1, 2],\n",
       " [-1, 5],\n",
       " [-1, 5],\n",
       " [1, 5],\n",
       " [-1, 2],\n",
       " [-1, 4],\n",
       " [1, 1],\n",
       " [1, 1],\n",
       " [-1, 4],\n",
       " [1, 2],\n",
       " [1, 1],\n",
       " [-1, 1],\n",
       " [-1, 4],\n",
       " [1, 1],\n",
       " [-1, 4],\n",
       " [-1, 4],\n",
       " [1, 5],\n",
       " [1, 3],\n",
       " [1, 1],\n",
       " [-1, 1],\n",
       " [1, 1],\n",
       " [-1, 5],\n",
       " [-1, 1],\n",
       " [1, 5],\n",
       " [-1, 4],\n",
       " [1, 2],\n",
       " [-1, 5],\n",
       " [-1, 3],\n",
       " [-1, 3],\n",
       " [1, 3],\n",
       " [-1, 3],\n",
       " [1, 4],\n",
       " [1, 4],\n",
       " [-1, 2],\n",
       " [-1, 5],\n",
       " [1, 1],\n",
       " [1, 2],\n",
       " [-1, 2],\n",
       " [-1, 1],\n",
       " [1, 3],\n",
       " [1, 4],\n",
       " [-1, 193],\n",
       " [1, 3],\n",
       " [-1, 5],\n",
       " [1, 45],\n",
       " [-1, 1],\n",
       " [1, 4],\n",
       " [1, 79],\n",
       " [-1, 5],\n",
       " [-1, 5],\n",
       " [1, 5],\n",
       " [1, 1],\n",
       " [-1, 4],\n",
       " [1, 3],\n",
       " [1, 3],\n",
       " [-1, 4],\n",
       " [1, 185],\n",
       " [-1, 5],\n",
       " [-1, 3],\n",
       " [-1, 1],\n",
       " [1, 5],\n",
       " [-1, 2],\n",
       " [1, 1],\n",
       " [1, 3],\n",
       " [1, 2],\n",
       " [-1, 3],\n",
       " [-1, 4],\n",
       " [-1, 2],\n",
       " [1, 2],\n",
       " [-1, 3],\n",
       " [-1, 2],\n",
       " [-1, 2],\n",
       " [-1, 3],\n",
       " [-1, 5],\n",
       " [1, 3],\n",
       " [1, 4],\n",
       " [-1, 5],\n",
       " [1, 1],\n",
       " [1, 2],\n",
       " [-1, 2],\n",
       " [1, 4],\n",
       " [1, 3],\n",
       " [-1, 4],\n",
       " [-1, 3],\n",
       " [-1, 1],\n",
       " [1, 3],\n",
       " [1, 2],\n",
       " [1, 1],\n",
       " [1, 1],\n",
       " [-1, 3],\n",
       " [1, 4],\n",
       " [-1, 5],\n",
       " [1, 2],\n",
       " [1, 1],\n",
       " [1, 3],\n",
       " [-1, 3],\n",
       " [-1, 2],\n",
       " [-1, 2],\n",
       " [1, 2],\n",
       " [1, 1],\n",
       " [1, 2],\n",
       " [1, 3],\n",
       " [-1, 3],\n",
       " [-1, 3],\n",
       " [1, 4],\n",
       " [-1, 4],\n",
       " [1, 4],\n",
       " [1, 4],\n",
       " [1, 4],\n",
       " [-1, 3],\n",
       " [-1, 1],\n",
       " [-1, 2],\n",
       " [1, 5],\n",
       " [1, 2],\n",
       " [1, 2],\n",
       " [1, 2],\n",
       " [-1, 4],\n",
       " [-1, 3],\n",
       " [-1, 4],\n",
       " [1, 4],\n",
       " [-1, 5],\n",
       " [-1, 4],\n",
       " [1, 2],\n",
       " [-1, 4],\n",
       " [-1, 4],\n",
       " [1, 4],\n",
       " [1, 1],\n",
       " [1, 5],\n",
       " [-1, 2],\n",
       " [-1, 4],\n",
       " [-1, 5],\n",
       " [-1, 3],\n",
       " [-1, 2],\n",
       " [-1, 4],\n",
       " [-1, 4],\n",
       " [1, 3],\n",
       " [-1, 3],\n",
       " [-1, 4],\n",
       " [1, 1],\n",
       " [-1, 2],\n",
       " [1, 3],\n",
       " [-1, 2],\n",
       " [1, 1],\n",
       " [1, 2],\n",
       " [1, 5],\n",
       " [-1, 4],\n",
       " [-1, 2],\n",
       " [-1, 1],\n",
       " [-1, 3],\n",
       " [1, 2],\n",
       " [1, 3],\n",
       " [-1, 2],\n",
       " [-1, 1],\n",
       " [-1, 5],\n",
       " [-1, 2],\n",
       " [-1, 1],\n",
       " [1, 4]]"
      ]
     },
     "execution_count": 26,
     "metadata": {},
     "output_type": "execute_result"
    }
   ],
   "source": [
    "directions2"
   ]
  },
  {
   "cell_type": "code",
   "execution_count": 29,
   "metadata": {
    "collapsed": false
   },
   "outputs": [],
   "source": [
    "def fixdir(d):\n",
    "    if d == -1:\n",
    "        return 3\n",
    "    elif d == 4:\n",
    "        return 0\n",
    "    else:\n",
    "        return d"
   ]
  },
  {
   "cell_type": "code",
   "execution_count": 32,
   "metadata": {
    "collapsed": false
   },
   "outputs": [],
   "source": [
    "def travel(orientation, instruction):\n",
    "    '''Will turn a direction and specific distance given currrent position'''\n",
    "    new_orientation = orientation + instruction[0]\n",
    "    new_orientation = fixdir(new_orientation)\n",
    "    \n",
    "    if orientation == 0:\n",
    "        if new_orientation == 1:\n",
    "            move = (1,0)\n",
    "        else:\n",
    "            move = (-1,0)\n",
    "    elif orientation == 1:\n",
    "        if new_orientation == 2:\n",
    "            move = (0, -1)\n",
    "        else:\n",
    "            move = (0,1)\n",
    "    elif orientation == 2:\n",
    "        if new_orientation == 3:\n",
    "            move = (-1,0)\n",
    "        else:\n",
    "            move = (1,0)\n",
    "    else:\n",
    "        if new_orientation == 0:\n",
    "            move = (0,1)\n",
    "        else:\n",
    "            move = (0,-1)\n",
    "            \n",
    "    scaled_move = []\n",
    "    \n",
    "    for i in range(instruction[1]):\n",
    "        scaled_move.append(move)\n",
    "    \n",
    "    return new_orientation, scaled_move\n",
    "        "
   ]
  },
  {
   "cell_type": "code",
   "execution_count": 31,
   "metadata": {
    "collapsed": false
   },
   "outputs": [
    {
     "data": {
      "text/plain": [
       "(1, 0, 1, 0, 1, 0)"
      ]
     },
     "execution_count": 31,
     "metadata": {},
     "output_type": "execute_result"
    }
   ],
   "source": [
    "3 * (1,0)\n"
   ]
  },
  {
   "cell_type": "code",
   "execution_count": 33,
   "metadata": {
    "collapsed": true
   },
   "outputs": [],
   "source": [
    "x, y, z = 1, 2, 3"
   ]
  },
  {
   "cell_type": "code",
   "execution_count": 35,
   "metadata": {
    "collapsed": false
   },
   "outputs": [
    {
     "name": "stdout",
     "output_type": "stream",
     "text": [
      "1\n",
      "2\n",
      "3\n"
     ]
    }
   ],
   "source": [
    "print(x)\n",
    "print(y)\n",
    "print(z)\n"
   ]
  },
  {
   "cell_type": "code",
   "execution_count": 39,
   "metadata": {
    "collapsed": true
   },
   "outputs": [],
   "source": [
    "output = []\n",
    "\n",
    "orientation = 0\n",
    "for d in directions2:\n",
    "    orientation, moves = travel(orientation, d)\n",
    "    output.extend(moves)"
   ]
  },
  {
   "cell_type": "code",
   "execution_count": 44,
   "metadata": {
    "collapsed": false
   },
   "outputs": [
    {
     "name": "stdout",
     "output_type": "stream",
     "text": [
      "['L2', 'L5', 'L5']\n"
     ]
    }
   ],
   "source": [
    "print(directions[:3])"
   ]
  },
  {
   "cell_type": "code",
   "execution_count": 41,
   "metadata": {
    "collapsed": false
   },
   "outputs": [
    {
     "name": "stdout",
     "output_type": "stream",
     "text": [
      "[[-1, 2], [-1, 5], [-1, 5]]\n"
     ]
    }
   ],
   "source": [
    "print(directions2[:3])"
   ]
  },
  {
   "cell_type": "code",
   "execution_count": 47,
   "metadata": {
    "collapsed": false,
    "scrolled": true
   },
   "outputs": [
    {
     "data": {
      "text/plain": [
       "951"
      ]
     },
     "execution_count": 47,
     "metadata": {},
     "output_type": "execute_result"
    }
   ],
   "source": [
    "len(output)"
   ]
  },
  {
   "cell_type": "code",
   "execution_count": 48,
   "metadata": {
    "collapsed": false
   },
   "outputs": [
    {
     "data": {
      "text/plain": [
       "(1, 0, 0, 1)"
      ]
     },
     "execution_count": 48,
     "metadata": {},
     "output_type": "execute_result"
    }
   ],
   "source": [
    "(1,0) +(0,1)"
   ]
  },
  {
   "cell_type": "code",
   "execution_count": 49,
   "metadata": {
    "collapsed": true
   },
   "outputs": [],
   "source": [
    "def add(a,b):\n",
    "    return (a[0]+b[0], a[1] + b[1])"
   ]
  },
  {
   "cell_type": "code",
   "execution_count": 54,
   "metadata": {
    "collapsed": true
   },
   "outputs": [],
   "source": [
    "pos = (0,0)\n",
    "history = []\n",
    "history.append(pos)\n",
    "for o in output:\n",
    "    pos = add(pos, o)\n",
    "    if pos in history:\n",
    "        break\n",
    "    history.append(pos)"
   ]
  },
  {
   "cell_type": "code",
   "execution_count": 55,
   "metadata": {
    "collapsed": false
   },
   "outputs": [
    {
     "data": {
      "text/plain": [
       "(28, 112)"
      ]
     },
     "execution_count": 55,
     "metadata": {},
     "output_type": "execute_result"
    }
   ],
   "source": [
    "pos"
   ]
  },
  {
   "cell_type": "code",
   "execution_count": null,
   "metadata": {
    "collapsed": true
   },
   "outputs": [],
   "source": []
  }
 ],
 "metadata": {
  "anaconda-cloud": {},
  "kernelspec": {
   "display_name": "Python [Root]",
   "language": "python",
   "name": "Python [Root]"
  },
  "language_info": {
   "codemirror_mode": {
    "name": "ipython",
    "version": 3
   },
   "file_extension": ".py",
   "mimetype": "text/x-python",
   "name": "python",
   "nbconvert_exporter": "python",
   "pygments_lexer": "ipython3",
   "version": "3.5.2"
  }
 },
 "nbformat": 4,
 "nbformat_minor": 0
}
