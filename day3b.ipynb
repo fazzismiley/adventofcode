{
 "cells": [
  {
   "cell_type": "code",
   "execution_count": 24,
   "metadata": {
    "collapsed": false
   },
   "outputs": [],
   "source": [
    "import os"
   ]
  },
  {
   "cell_type": "code",
   "execution_count": 65,
   "metadata": {
    "collapsed": false
   },
   "outputs": [],
   "source": [
    "#open input file read into a list to ensure lines are not split up into seperate lists\n",
    "with open('day3.txt', 'r') as f:\n",
    "    data = [f.read()]"
   ]
  },
  {
   "cell_type": "code",
   "execution_count": 66,
   "metadata": {
    "collapsed": false,
    "scrolled": false
   },
   "outputs": [],
   "source": [
    "#create an empty list and iterate through data list and split at all white space and newlines escape sequences append strings\n",
    "data1 =[]\n",
    "for l in data:\n",
    "    data1.append(l.split())"
   ]
  },
  {
   "cell_type": "code",
   "execution_count": 67,
   "metadata": {
    "collapsed": false
   },
   "outputs": [],
   "source": [
    "#create empty list iterate through data1 list append int value to empty list \n",
    "clean_data = []\n",
    "for l in data1:\n",
    "    for x in l:\n",
    "        clean_data.append(int(x))"
   ]
  },
  {
   "cell_type": "code",
   "execution_count": 68,
   "metadata": {
    "collapsed": false
   },
   "outputs": [],
   "source": [
    "#for every n, n+3 and n+6 item in a list append to a new list. if an n exists in the master list skip it.\n",
    "#look into loop control functons to solve this. \n",
    "col_data = []\n",
    "for i in clean_data:\n",
    "    a =[i, i+3, i+6]\n",
    "    col_data.append(a)\n",
    "    if clean_data[i] in col_data:\n",
    "        continue      "
   ]
  }
 ],
 "metadata": {
  "anaconda-cloud": {},
  "kernelspec": {
   "display_name": "Python [default]",
   "language": "python",
   "name": "python3"
  },
  "language_info": {
   "codemirror_mode": {
    "name": "ipython",
    "version": 3
   },
   "file_extension": ".py",
   "mimetype": "text/x-python",
   "name": "python",
   "nbconvert_exporter": "python",
   "pygments_lexer": "ipython3",
   "version": "3.5.2"
  }
 },
 "nbformat": 4,
 "nbformat_minor": 1
}
