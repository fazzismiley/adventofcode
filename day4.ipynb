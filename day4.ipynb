{
 "cells": [
  {
   "cell_type": "code",
   "execution_count": 146,
   "metadata": {
    "collapsed": true
   },
   "outputs": [],
   "source": [
    "import os\n",
    "from operator import itemgetter"
   ]
  },
  {
   "cell_type": "code",
   "execution_count": 154,
   "metadata": {
    "collapsed": true
   },
   "outputs": [],
   "source": [
    "#read teh file and us split line to break at \\n esc seq.\n",
    "with open('day4.txt', 'r') as f:\n",
    "    x = f.readline().strip('\\n')"
   ]
  },
  {
   "cell_type": "code",
   "execution_count": 155,
   "metadata": {
    "collapsed": false
   },
   "outputs": [],
   "source": [
    "#locate the string slice pos of the the two brackets and the last hypen slice based on those positions to parse out\n",
    "#hash, sector id, check sum and appending them to a temporary list. Convert sector id to int and return list because\n",
    "#it will be thrown away once the fxn is complete. (append to another list when operating on multiple lines)\n",
    "def data_parser(line):\n",
    "    parsed_lines = []\n",
    "    pos = line.rfind('[')\n",
    "    pos1= line.rfind(']')\n",
    "    pos2 = line.rfind('-')\n",
    "    chck_sum = line[pos+1:pos1]\n",
    "    sectorid = line[pos2+1:pos]\n",
    "    sha = line[0:pos2]\n",
    "    parsed_lines.append(sha.replace('-',''))\n",
    "    parsed_lines.append(chck_sum)\n",
    "    parsed_lines.append(int(sectorid))\n",
    "    return parsed_lines"
   ]
  },
  {
   "cell_type": "code",
   "execution_count": 156,
   "metadata": {
    "collapsed": false
   },
   "outputs": [],
   "source": [
    "parsed_data = []\n",
    "parsed_data.append(data_parser(x))"
   ]
  },
  {
   "cell_type": "code",
   "execution_count": 157,
   "metadata": {
    "collapsed": false
   },
   "outputs": [],
   "source": [
    "y = data_parser(x)"
   ]
  },
  {
   "cell_type": "code",
   "execution_count": 158,
   "metadata": {
    "collapsed": true
   },
   "outputs": [],
   "source": [
    "#iterate thru a list of the alphabet and count each letter occuring the hash value; if it exists append it to a list in \n",
    "#tuple form of (int, letter) replace the hash with that list of tuples\n",
    "alpha = ['a', 'b', 'c','d','e','f','g','h','i','j','k','l','m','n','o','p','q','r','s','t','u','v','w','x','y','z']\n",
    "def convert(list):\n",
    "    count_cache = []\n",
    "    for a in alpha:    \n",
    "            if (list[0]).count(a) != 0:\n",
    "                count_cache.append(((list[0]).count(a), a)) \n",
    "    list[0] = count_cache"
   ]
  },
  {
   "cell_type": "code",
   "execution_count": 159,
   "metadata": {
    "collapsed": false
   },
   "outputs": [],
   "source": [
    "convert(y)"
   ]
  },
  {
   "cell_type": "code",
   "execution_count": 160,
   "metadata": {
    "collapsed": false
   },
   "outputs": [],
   "source": [
    "#import itemgetter from operator; use itemgetter to extract the int value from the list of tuples. Use map to operate\n",
    "#itemgetter on all items in list of tuples. Sort list of tuples using the itemgetter as a key and in reverse\n",
    "#will produce the 5 tuples in highest occurence and alphabetically for ties.\n",
    "#attempted to sort the list of tuples simply using sorted in reverse and would produce pyeca so itemgetter employement\n",
    "#was neccessary\n",
    "#extract the 5 letters from tuples replace them with the list of tuples and compare to check sum if equal add sectorsum\n",
    "def hasher(list):\n",
    "    getcount = itemgetter(0)\n",
    "    map(getcount, list[0])\n",
    "    code = (sorted((list[0]), key = getcount,reverse = True))\n",
    "    code = (code[0:5])\n",
    "    list[0] = code\n",
    "    sector_sum = 0\n",
    "    for tup in list[0]:\n",
    "        if tup == list[0][0]:\n",
    "            list[0] = tup[1]\n",
    "        else:\n",
    "            list[0] += tup[1]\n",
    "    if list[0] == list[1]:\n",
    "        sector_sum += list[2]\n",
    "    return sector_sum"
   ]
  },
  {
   "cell_type": "code",
   "execution_count": 161,
   "metadata": {
    "collapsed": false
   },
   "outputs": [
    {
     "data": {
      "text/plain": [
       "977"
      ]
     },
     "execution_count": 161,
     "metadata": {},
     "output_type": "execute_result"
    }
   ],
   "source": [
    "hasher(y)"
   ]
  },
  {
   "cell_type": "code",
   "execution_count": 134,
   "metadata": {
    "collapsed": false
   },
   "outputs": [
    {
     "data": {
      "text/plain": [
       "['peyac', 'peyac', 977]"
      ]
     },
     "execution_count": 134,
     "metadata": {},
     "output_type": "execute_result"
    }
   ],
   "source": [
    "\\"
   ]
  },
  {
   "cell_type": "code",
   "execution_count": null,
   "metadata": {
    "collapsed": true
   },
   "outputs": [],
   "source": []
  }
 ],
 "metadata": {
  "kernelspec": {
   "display_name": "Python [default]",
   "language": "python",
   "name": "python3"
  },
  "language_info": {
   "codemirror_mode": {
    "name": "ipython",
    "version": 3
   },
   "file_extension": ".py",
   "mimetype": "text/x-python",
   "name": "python",
   "nbconvert_exporter": "python",
   "pygments_lexer": "ipython3",
   "version": "3.5.2"
  }
 },
 "nbformat": 4,
 "nbformat_minor": 1
}
