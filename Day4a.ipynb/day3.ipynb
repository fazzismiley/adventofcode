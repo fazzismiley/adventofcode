{
 "cells": [
  {
   "cell_type": "code",
   "execution_count": 15,
   "metadata": {
    "collapsed": false
   },
   "outputs": [],
   "source": [
    "import os"
   ]
  },
  {
   "cell_type": "code",
   "execution_count": 2,
   "metadata": {
    "collapsed": false
   },
   "outputs": [],
   "source": [
    "#worthless\n",
    "#with open('day3.txt', 'r') as f:\n",
    " #   data = f.read()"
   ]
  },
  {
   "cell_type": "code",
   "execution_count": 5,
   "metadata": {
    "collapsed": false
   },
   "outputs": [],
   "source": [
    "# split each element of the inner list by white space avoids using ' ' creating an extra entry in ist for single integers\n",
    "x = []\n",
    "for l in file:\n",
    "    x.append(l.split())"
   ]
  },
  {
   "cell_type": "code",
   "execution_count": 8,
   "metadata": {
    "collapsed": false
   },
   "outputs": [],
   "source": [
    "# create a list and iterate through list of lists, casting it as an int and appending it \n",
    "#to clear data maintainig seperate kists for sets of values\n",
    "clean_data = []\n",
    "for l in x:\n",
    "    clean_data.append([int(y) for y in l])"
   ]
  },
  {
   "cell_type": "code",
   "execution_count": 9,
   "metadata": {
    "collapsed": false
   },
   "outputs": [],
   "source": [
    "#without the list comprrsfshion abofe\n",
    "redo = []\n",
    "for l in x:\n",
    "    z = []\n",
    "    for y in l:\n",
    "        z.append(int(y))\n",
    "    redo.append(z)    "
   ]
  },
  {
   "cell_type": "code",
   "execution_count": 10,
   "metadata": {
    "collapsed": false
   },
   "outputs": [],
   "source": [
    "#sort each list from smallest ot largert integer value using list comprehehension\n",
    "sorted_data = [sorted(d) for d in clean_data]\n"
   ]
  },
  {
   "cell_type": "code",
   "execution_count": 12,
   "metadata": {
    "collapsed": false
   },
   "outputs": [],
   "source": [
    "#sort each list from small to big int value using for loop append to new list\n",
    "sorted_redo = []\n",
    "for d in redo:\n",
    "    sorted_redo.append(sorted(d))"
   ]
  }
 ],
 "metadata": {
  "anaconda-cloud": {},
  "kernelspec": {
   "display_name": "Python [default]",
   "language": "python",
   "name": "python3"
  },
  "language_info": {
   "codemirror_mode": {
    "name": "ipython",
    "version": 3
   },
   "file_extension": ".py",
   "mimetype": "text/x-python",
   "name": "python",
   "nbconvert_exporter": "python",
   "pygments_lexer": "ipython3",
   "version": "3.5.2"
  }
 },
 "nbformat": 4,
 "nbformat_minor": 1
}
